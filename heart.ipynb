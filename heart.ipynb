{
 "cells": [
  {
   "cell_type": "code",
   "execution_count": 3,
   "id": "9bb3b6e4",
   "metadata": {},
   "outputs": [],
   "source": [
    "import numpy as np\n",
    "import pandas as pd\n",
    "import matplotlib.pyplot as plt"
   ]
  },
  {
   "cell_type": "code",
   "execution_count": 4,
   "id": "fd820bbe",
   "metadata": {},
   "outputs": [
    {
     "data": {
      "text/html": [
       "<div>\n",
       "<style scoped>\n",
       "    .dataframe tbody tr th:only-of-type {\n",
       "        vertical-align: middle;\n",
       "    }\n",
       "\n",
       "    .dataframe tbody tr th {\n",
       "        vertical-align: top;\n",
       "    }\n",
       "\n",
       "    .dataframe thead th {\n",
       "        text-align: right;\n",
       "    }\n",
       "</style>\n",
       "<table border=\"1\" class=\"dataframe\">\n",
       "  <thead>\n",
       "    <tr style=\"text-align: right;\">\n",
       "      <th></th>\n",
       "      <th>age</th>\n",
       "      <th>sex</th>\n",
       "      <th>cp</th>\n",
       "      <th>trestbps</th>\n",
       "      <th>chol</th>\n",
       "      <th>fbs</th>\n",
       "      <th>restecg</th>\n",
       "      <th>thalach</th>\n",
       "      <th>exang</th>\n",
       "      <th>oldpeak</th>\n",
       "      <th>slope</th>\n",
       "      <th>ca</th>\n",
       "      <th>thal</th>\n",
       "      <th>target</th>\n",
       "    </tr>\n",
       "  </thead>\n",
       "  <tbody>\n",
       "    <tr>\n",
       "      <th>0</th>\n",
       "      <td>52</td>\n",
       "      <td>1</td>\n",
       "      <td>0</td>\n",
       "      <td>125</td>\n",
       "      <td>212</td>\n",
       "      <td>0</td>\n",
       "      <td>1</td>\n",
       "      <td>168</td>\n",
       "      <td>0</td>\n",
       "      <td>1.0</td>\n",
       "      <td>2</td>\n",
       "      <td>2</td>\n",
       "      <td>3</td>\n",
       "      <td>0</td>\n",
       "    </tr>\n",
       "    <tr>\n",
       "      <th>1</th>\n",
       "      <td>53</td>\n",
       "      <td>1</td>\n",
       "      <td>0</td>\n",
       "      <td>140</td>\n",
       "      <td>203</td>\n",
       "      <td>1</td>\n",
       "      <td>0</td>\n",
       "      <td>155</td>\n",
       "      <td>1</td>\n",
       "      <td>3.1</td>\n",
       "      <td>0</td>\n",
       "      <td>0</td>\n",
       "      <td>3</td>\n",
       "      <td>0</td>\n",
       "    </tr>\n",
       "    <tr>\n",
       "      <th>2</th>\n",
       "      <td>70</td>\n",
       "      <td>1</td>\n",
       "      <td>0</td>\n",
       "      <td>145</td>\n",
       "      <td>174</td>\n",
       "      <td>0</td>\n",
       "      <td>1</td>\n",
       "      <td>125</td>\n",
       "      <td>1</td>\n",
       "      <td>2.6</td>\n",
       "      <td>0</td>\n",
       "      <td>0</td>\n",
       "      <td>3</td>\n",
       "      <td>0</td>\n",
       "    </tr>\n",
       "    <tr>\n",
       "      <th>3</th>\n",
       "      <td>61</td>\n",
       "      <td>1</td>\n",
       "      <td>0</td>\n",
       "      <td>148</td>\n",
       "      <td>203</td>\n",
       "      <td>0</td>\n",
       "      <td>1</td>\n",
       "      <td>161</td>\n",
       "      <td>0</td>\n",
       "      <td>0.0</td>\n",
       "      <td>2</td>\n",
       "      <td>1</td>\n",
       "      <td>3</td>\n",
       "      <td>0</td>\n",
       "    </tr>\n",
       "    <tr>\n",
       "      <th>4</th>\n",
       "      <td>62</td>\n",
       "      <td>0</td>\n",
       "      <td>0</td>\n",
       "      <td>138</td>\n",
       "      <td>294</td>\n",
       "      <td>1</td>\n",
       "      <td>1</td>\n",
       "      <td>106</td>\n",
       "      <td>0</td>\n",
       "      <td>1.9</td>\n",
       "      <td>1</td>\n",
       "      <td>3</td>\n",
       "      <td>2</td>\n",
       "      <td>0</td>\n",
       "    </tr>\n",
       "  </tbody>\n",
       "</table>\n",
       "</div>"
      ],
      "text/plain": [
       "   age  sex  cp  trestbps  chol  fbs  restecg  thalach  exang  oldpeak  slope  \\\n",
       "0   52    1   0       125   212    0        1      168      0      1.0      2   \n",
       "1   53    1   0       140   203    1        0      155      1      3.1      0   \n",
       "2   70    1   0       145   174    0        1      125      1      2.6      0   \n",
       "3   61    1   0       148   203    0        1      161      0      0.0      2   \n",
       "4   62    0   0       138   294    1        1      106      0      1.9      1   \n",
       "\n",
       "   ca  thal  target  \n",
       "0   2     3       0  \n",
       "1   0     3       0  \n",
       "2   0     3       0  \n",
       "3   1     3       0  \n",
       "4   3     2       0  "
      ]
     },
     "execution_count": 4,
     "metadata": {},
     "output_type": "execute_result"
    }
   ],
   "source": [
    "data = pd.read_csv('heart.csv')\n",
    "data.head()"
   ]
  },
  {
   "cell_type": "code",
   "execution_count": 5,
   "id": "0b429e58",
   "metadata": {},
   "outputs": [],
   "source": [
    "X = data.drop(columns='target')\n",
    "Y = data['target']\n"
   ]
  },
  {
   "cell_type": "code",
   "execution_count": 6,
   "id": "a2159ddb",
   "metadata": {},
   "outputs": [],
   "source": [
    "from sklearn.model_selection import train_test_split\n",
    "\n",
    "X_train, X_test, Y_train, Y_test = train_test_split(X, Y, test_size=0.2,random_state=42)"
   ]
  },
  {
   "cell_type": "code",
   "execution_count": 7,
   "id": "d6cf410d",
   "metadata": {},
   "outputs": [
    {
     "name": "stdout",
     "output_type": "stream",
     "text": [
      "     age  sex  cp  trestbps  chol  fbs  restecg  thalach  exang  oldpeak  \\\n",
      "835   49    1   2       118   149    0        0      126      0      0.8   \n",
      "137   64    0   0       180   325    0        1      154      1      0.0   \n",
      "534   54    0   2       108   267    0        0      167      0      0.0   \n",
      "495   59    1   0       135   234    0        1      161      0      0.5   \n",
      "244   51    1   2       125   245    1        0      166      0      2.4   \n",
      "..   ...  ...  ..       ...   ...  ...      ...      ...    ...      ...   \n",
      "700   41    1   2       130   214    0        0      168      0      2.0   \n",
      "71    61    1   0       140   207    0        0      138      1      1.9   \n",
      "106   51    1   0       140   299    0        1      173      1      1.6   \n",
      "270   43    1   0       110   211    0        1      161      0      0.0   \n",
      "860   52    1   0       112   230    0        1      160      0      0.0   \n",
      "\n",
      "     slope  ca  thal  \n",
      "835      2   3     2  \n",
      "137      2   0     2  \n",
      "534      2   0     2  \n",
      "495      1   0     3  \n",
      "244      1   0     2  \n",
      "..     ...  ..   ...  \n",
      "700      1   0     2  \n",
      "71       2   1     3  \n",
      "106      2   0     3  \n",
      "270      2   0     3  \n",
      "860      2   1     2  \n",
      "\n",
      "[820 rows x 13 columns]\n"
     ]
    }
   ],
   "source": [
    "print(X_train)"
   ]
  },
  {
   "cell_type": "code",
   "execution_count": 8,
   "id": "44248168",
   "metadata": {},
   "outputs": [
    {
     "name": "stdout",
     "output_type": "stream",
     "text": [
      "835    0\n",
      "137    1\n",
      "534    1\n",
      "495    1\n",
      "244    1\n",
      "      ..\n",
      "700    1\n",
      "71     0\n",
      "106    0\n",
      "270    1\n",
      "860    0\n",
      "Name: target, Length: 820, dtype: int64\n"
     ]
    }
   ],
   "source": [
    "print(Y_train)"
   ]
  },
  {
   "cell_type": "code",
   "execution_count": 9,
   "id": "cafae5bb",
   "metadata": {},
   "outputs": [],
   "source": [
    "X_train = X_train.values\n",
    "X_test = X_test.values\n",
    "\n",
    "Y_train = Y_train.values\n",
    "Y_test = Y_test.values"
   ]
  },
  {
   "cell_type": "code",
   "execution_count": 10,
   "id": "47b06aa2",
   "metadata": {},
   "outputs": [],
   "source": [
    "Y_train = Y_train.reshape(X_train.shape[0], 1)\n",
    "Y_test = Y_test.reshape(X_test.shape[0], 1)"
   ]
  },
  {
   "cell_type": "code",
   "execution_count": 11,
   "id": "7b2f599d",
   "metadata": {},
   "outputs": [
    {
     "name": "stdout",
     "output_type": "stream",
     "text": [
      "(820, 13)\n",
      "(820, 1)\n",
      "(205, 13)\n",
      "(205, 1)\n"
     ]
    }
   ],
   "source": [
    "print(X_train.shape) \n",
    "print(Y_train.shape)\n",
    "print(X_test.shape)\n",
    "print(Y_test.shape)"
   ]
  },
  {
   "cell_type": "code",
   "execution_count": 12,
   "id": "928bc545",
   "metadata": {},
   "outputs": [],
   "source": [
    "def sigmoid(z):\n",
    "    return 1 / (1 + np.exp(-z))"
   ]
  },
  {
   "cell_type": "code",
   "execution_count": 13,
   "id": "31fdfc36",
   "metadata": {},
   "outputs": [],
   "source": [
    "def model(X, Y, learning_rate, iterations):\n",
    "    m = X.shape[1]  \n",
    "    n = X.shape[0]  \n",
    "    \n",
    "    W = np.zeros((m, 1))  \n",
    "    B = 0\n",
    "    \n",
    "    cost_list = []\n",
    "    \n",
    "    for i in range(iterations):\n",
    "        Z = np.dot(X, W) + B  \n",
    "        A = sigmoid(Z)\n",
    "        \n",
    "        cost = -(1/n) * np.sum(Y * np.log(A) + (1 - Y) * np.log(1 - A))\n",
    "        \n",
    "        dW = (1/n) * np.dot(X.T, (A - Y)) \n",
    "        dB = (1/n) * np.sum(A - Y)\n",
    "        \n",
    "        W = W - learning_rate * dW\n",
    "        B = B - learning_rate * dB\n",
    "        \n",
    "        cost_list.append(cost)\n",
    "        \n",
    "        if i % (iterations // 10) == 0:\n",
    "            print(\"Cost after\", i, \"iterations is:\", cost)\n",
    "        \n",
    "    return W, B, cost_list"
   ]
  },
  {
   "cell_type": "code",
   "execution_count": 14,
   "id": "c8930e36",
   "metadata": {},
   "outputs": [],
   "source": [
    "from sklearn.preprocessing import StandardScaler\n",
    "\n",
    "scaler = StandardScaler()\n",
    "X_train_scaled = scaler.fit_transform(X_train)"
   ]
  },
  {
   "cell_type": "code",
   "execution_count": 15,
   "id": "061b9bdc",
   "metadata": {},
   "outputs": [
    {
     "name": "stdout",
     "output_type": "stream",
     "text": [
      "Cost after 0 iterations is: 0.6931471805599453\n",
      "Cost after 1000 iterations is: 0.5007063658465739\n",
      "Cost after 2000 iterations is: 0.43275716090327465\n",
      "Cost after 3000 iterations is: 0.4003824384820744\n",
      "Cost after 4000 iterations is: 0.3818736311775006\n",
      "Cost after 5000 iterations is: 0.37004089724304934\n",
      "Cost after 6000 iterations is: 0.3618963450946069\n",
      "Cost after 7000 iterations is: 0.3559915556413908\n",
      "Cost after 8000 iterations is: 0.3515434978287954\n",
      "Cost after 9000 iterations is: 0.34809325654459156\n"
     ]
    }
   ],
   "source": [
    "iterations = 10000\n",
    "learning_rate = 0.001\n",
    "W, B, cost_list = model(X_train_scaled, Y_train, learning_rate = learning_rate, iterations = iterations)"
   ]
  },
  {
   "cell_type": "code",
   "execution_count": 16,
   "id": "025ca18a",
   "metadata": {},
   "outputs": [
    {
     "data": {
      "image/png": "[encoded data removed]",
      "text/plain": [
       "<Figure size 640x480 with 1 Axes>"
      ]
     },
     "metadata": {},
     "output_type": "display_data"
    }
   ],
   "source": [
    "plt.plot(np.arange(iterations), cost_list)\n",
    "plt.show()"
   ]
  },
  {
   "cell_type": "code",
   "execution_count": 17,
   "id": "25542d30",
   "metadata": {},
   "outputs": [],
   "source": [
    "def predict(X, W, B):\n",
    "    Z = np.dot(X, W) + B\n",
    "    A = sigmoid(Z)\n",
    "    return (A > 0.5).astype(int)"
   ]
  },
  {
   "cell_type": "code",
   "execution_count": 27,
   "id": "5977b43a",
   "metadata": {},
   "outputs": [],
   "source": [
    "X_test_scaled = scaler.transform(X_test)"
   ]
  },
  {
   "cell_type": "code",
   "execution_count": 28,
   "id": "056b6c9d",
   "metadata": {},
   "outputs": [],
   "source": [
    "Y_pred = predict(X_test_scaled, W, B)"
   ]
  },
  {
   "cell_type": "code",
   "execution_count": 29,
   "id": "d9e130f9",
   "metadata": {},
   "outputs": [],
   "source": [
    "def accuracy(Y_pred, Y_test):\n",
    "    acc = (np.sum(Y_pred == Y_test) / Y_test.size) * 100\n",
    "    print(\"Accuracy of the model is:\", round(acc, 2), \"%\")"
   ]
  },
  {
   "cell_type": "code",
   "execution_count": 30,
   "id": "05dc42aa",
   "metadata": {},
   "outputs": [
    {
     "name": "stdout",
     "output_type": "stream",
     "text": [
      "Accuracy of the model is: 79.51 %\n"
     ]
    }
   ],
   "source": [
    "accuracy(Y_pred, Y_test)"
   ]
  },
  {
   "cell_type": "code",
   "execution_count": 31,
   "id": "ddd582a9",
   "metadata": {},
   "outputs": [
    {
     "data": {
      "image/png": "[encoded data removed]",
      "text/plain": [
       "<Figure size 640x480 with 2 Axes>"
      ]
     },
     "metadata": {},
     "output_type": "display_data"
    }
   ],
   "source": [
    "from sklearn.metrics import confusion_matrix, ConfusionMatrixDisplay\n",
    "cm = confusion_matrix(Y_test, Y_pred)\n",
    "\n",
    "\n",
    "disp = ConfusionMatrixDisplay(confusion_matrix=cm)\n",
    "disp.plot(cmap=plt.cm.Blues)\n",
    "plt.title('Confusion Matrix')\n",
    "plt.show()"
   ]
  },
  {
   "cell_type": "code",
   "execution_count": null,
   "id": "4ade9ec1",
   "metadata": {},
   "outputs": [],
   "source": []
  }
 ],
 "metadata": {
  "kernelspec": {
   "display_name": "Python 3 (ipykernel)",
   "language": "python",
   "name": "python3"
  },
  "language_info": {
   "codemirror_mode": {
    "name": "ipython",
    "version": 3
   },
   "file_extension": ".py",
   "mimetype": "text/x-python",
   "name": "python",
   "nbconvert_exporter": "python",
   "pygments_lexer": "ipython3",
   "version": "3.10.13"
  }
 },
 "nbformat": 4,
 "nbformat_minor": 5
}
